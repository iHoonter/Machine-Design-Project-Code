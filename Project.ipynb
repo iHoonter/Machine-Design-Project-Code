{
 "cells": [
  {
   "cell_type": "markdown",
   "metadata": {},
   "source": [
    "# Machine Design Project\n",
    "\n",
    "This is a jupyter notebook outlining the design process (up to bearing selection)\n"
   ]
  },
  {
   "cell_type": "code",
   "execution_count": 105,
   "metadata": {},
   "outputs": [],
   "source": [
    "import numpy as np\n",
    "\n",
    "def show(*vars, format_spec = \".3f\"):\n",
    "    for var in vars:\n",
    "        name = [k for k, v in globals().items() if v is var]\n",
    "        if name:\n",
    "            if isinstance(var, tuple) or isinstance(var, list):\n",
    "                formatted_list = [f'{item:{format_spec}}' for item in var]\n",
    "                print(f'{name[0]} = {formatted_list}')\n",
    "            else:\n",
    "                print(f'{name[0]} = {var:{format_spec}}')\n",
    "        else:\n",
    "            print('Variable not found')\n"
   ]
  },
  {
   "cell_type": "markdown",
   "metadata": {},
   "source": [
    "\n",
    "## Power Transmission\n",
    "\n",
    "Assumptions:\n",
    "\n",
    "- The input gear is reffered to as _Gear 2_, and the output gear is reffered to as _Gear 3_\n",
    "\n",
    "Knowns:\n",
    "\n",
    "- One-stage gear reduction\n",
    "- Input power of 9.5 HP\n",
    "- Input speed of 3000 rpm\n",
    "- Output speed of 400 $\\pm$ 1% rpm\n",
    "- Helical gears with helix angle $\\psi = 30\\degree$ and a normal pressure angle $\\phi_n = 20\\degree$\n",
    "\n",
    "Find:\n",
    "\n",
    "- Gear ratio\n",
    "- Number of teeth on each gear\n",
    "- Actual speed of each gear and shaft\n",
    "- Torque on each gear and shaft"
   ]
  },
  {
   "cell_type": "markdown",
   "metadata": {},
   "source": [
    "### Analysis\n",
    "\n",
    "The range of acceptable output speeds is 400 $\\pm$ 1%, calculating this range:"
   ]
  },
  {
   "cell_type": "code",
   "execution_count": 106,
   "metadata": {},
   "outputs": [
    {
     "name": "stdout",
     "output_type": "stream",
     "text": [
      "output_speed_range = ['396.000', '404.000']\n"
     ]
    }
   ],
   "source": [
    "input_speed = 3000\n",
    "output_speed = 400\n",
    "\n",
    "output_speed_range = (output_speed - output_speed*0.01, output_speed + output_speed*0.01)\n",
    "\n",
    "show(output_speed_range)"
   ]
  },
  {
   "cell_type": "markdown",
   "metadata": {},
   "source": [
    "We can find the speed ratio $e$ using the input and output speeds with equation 18-2.\n",
    "\n",
    "$$ e = \\frac{\\omega_3}{\\omega_2} \\tag{18-2} $$"
   ]
  },
  {
   "cell_type": "code",
   "execution_count": 107,
   "metadata": {},
   "outputs": [
    {
     "name": "stdout",
     "output_type": "stream",
     "text": [
      "e = 0.133\n"
     ]
    }
   ],
   "source": [
    "e = output_speed/input_speed\n",
    "\n",
    "show(e)"
   ]
  },
  {
   "cell_type": "markdown",
   "metadata": {},
   "source": [
    "Using $e$ we can calculate the minimum number of teeth in the pinion $N$ using Equation 13-22. This equation requires the gear ratio $m$, which is equal to $\\frac{1}{e}$:\n",
    "\n",
    "$$\n",
    "N_P = \\dfrac{2k \\cos\\psi}{(1 + 2m)\\sin^2\\phi_t}\\left( m + \\sqrt{m^2 + (1+2m)\\sin^2\\phi_t} \\right) \\tag{13-22}\n",
    "$$\n",
    "\n",
    "In this equation, $k = 1$ for full-depth teeth, and $\\phi_t$ can be calculated using $\\tan\\phi_t = \\frac{\\tan\\phi_n}{\\cos\\psi}$.\n"
   ]
  },
  {
   "cell_type": "code",
   "execution_count": 108,
   "metadata": {},
   "outputs": [
    {
     "name": "stdout",
     "output_type": "stream",
     "text": [
      "N_P = 10.931\n"
     ]
    }
   ],
   "source": [
    "def helical_NP_equation(m, psi, phi_t, k=1):\n",
    "    \n",
    "    return ((2*k*np.cos(psi)) / ((1 + 2*m) * np.sin(phi_t)**2)) * (m + np.sqrt(m**2 + (1 + 2*m)*np.sin(phi_t)**2))\n",
    "\n",
    "m = 1/e\n",
    "\n",
    "psi = np.deg2rad(30)\n",
    "phi_n = np.deg2rad(20)\n",
    "phi_t = np.arctan(np.tan(phi_n)/np.cos(psi))\n",
    "\n",
    "N_P = helical_NP_equation(m, psi, phi_t)\n",
    "\n",
    "show(N_P)"
   ]
  },
  {
   "cell_type": "markdown",
   "metadata": {},
   "source": [
    "We round this value of $N_P$ up to the nearest integer number of teeth, and then multiply $N_P$ by the gear ratio to obtain the number of teeth in the gear $N_G$, which we then round down to the nearest integer. If the ratio between these integer number of teeth is results in an output speed within tolerance then we have found the number of needed teeth."
   ]
  },
  {
   "cell_type": "code",
   "execution_count": 109,
   "metadata": {},
   "outputs": [
    {
     "name": "stdout",
     "output_type": "stream",
     "text": [
      "N_2 = 11.000\n",
      "N_G = 82.500\n",
      "N_3 = 82.000\n",
      "e_actual = 0.134\n",
      "output_speed_actual = 402.439\n",
      "Actual output in tolerance?: True\n"
     ]
    }
   ],
   "source": [
    "from math import ceil, floor\n",
    "\n",
    "N_2 = ceil(N_P)\n",
    "show(N_2)\n",
    "\n",
    "N_G = m*N_2\n",
    "show(N_G)\n",
    "\n",
    "N_3 = floor(N_G)\n",
    "show(N_3)\n",
    "\n",
    "# Finding the actual speed ratio (inverse of actual gear ratio)\n",
    "e_actual = N_2/N_3\n",
    "\n",
    "output_speed_actual = e_actual * input_speed\n",
    "show(e_actual, output_speed_actual)\n",
    "\n",
    "print(f'Actual output in tolerance?: {output_speed_range[0] <= output_speed_actual <= output_speed_range[1]}')"
   ]
  },
  {
   "cell_type": "markdown",
   "metadata": {},
   "source": [
    "With the actual input and output speeds determined along with the gear tooth counts, we can calculate the torque applied to each shaft/gear.\n",
    "\n",
    "$$\n",
    "T = \\frac{H}{\\omega} \\cdot 500\\frac{\\text{ft-lbf/s}}{\\text{hp}} \\cdot \\frac{1 \\text{rev}}{2\\pi \\text{rad}} \\cdot 60\\frac{\\text{s}}{\\text{min}} \\cdot 12\\frac{\\text{in}}{\\text{ft}}\n",
    "$$\n",
    "\n",
    "$$\n",
    "\\rightarrow T \\text{(lbf in)} = \\dfrac{396000 H}{2\\pi \\omega}\n",
    "$$"
   ]
  },
  {
   "cell_type": "code",
   "execution_count": 110,
   "metadata": {},
   "outputs": [
    {
     "name": "stdout",
     "output_type": "stream",
     "text": [
      "T_2 = 199.580\n",
      "T_3 = 1487.780\n"
     ]
    }
   ],
   "source": [
    "from numpy import pi\n",
    "\n",
    "H = 9.5\n",
    "\n",
    "T_2 = (396000 * H)/(2*pi * input_speed)\n",
    "T_3 = (396000 * H)/(2*pi * output_speed_actual)\n",
    "\n",
    "show(T_2, T_3)"
   ]
  },
  {
   "cell_type": "markdown",
   "metadata": {},
   "source": [
    "## Gear Selection\n",
    "\n",
    "Assumptions:\n",
    "\n",
    "- Gear and pinion are made of the same material\n",
    "- The quality number of the gears is $Q_v = 7$\n",
    "- The overload factor is $K_o = 1$\n",
    "\n",
    "Knowns:\n",
    "\n",
    "- Maximum width of 15 inches with 1.5 inches for wall thickness and clearance.\n",
    "- Pinion and gear to operate for 1000 hours at 90% reliability\n",
    "- Commercial enclosed unit\n",
    "- Uncrowned teeth\n",
    "- Not adjusted at assembly or lapped\n",
    "- Use $K_s = 1$ and $C_f = 1$\n",
    "- Light shock load from engine and moderate shock load from wheels\n",
    "- Safety factors against bending and wear are to be $S_F = S_H = 1.2$\n",
    "\n",
    "Find:\n",
    "\n",
    "- Diametral pitch of the gears\n",
    "- Gear and pinion material\n",
    "- Actual safety factors of material selection for gear and pinion"
   ]
  },
  {
   "cell_type": "markdown",
   "metadata": {},
   "source": [
    "### Analysis\n",
    "\n",
    "The first step is to find the diametral pitches $P$ of the gears. The minimum diametral pitch is constrained by the maximum size of the gearbox, $Y = 15$ in, and allotted space for clearances and wall thickness, $X = 1.5$ in. The total width $Y$ is:\n",
    "\n",
    "$$ Y = d_2 + d_3 + 2/P + X $$\n",
    "\n",
    "Where $2/P$ accounts for the addendums of the gear and pinion. We can substitute $d_i = N_i/P$ to get:\n",
    "\n",
    "$$ Y = N_2/P + N_3/P + 2/P + X $$\n",
    "\n",
    "$$ P_t = \\dfrac{N_2 + N_3 + 2}{Y - X} $$"
   ]
  },
  {
   "cell_type": "code",
   "execution_count": 111,
   "metadata": {},
   "outputs": [
    {
     "name": "stdout",
     "output_type": "stream",
     "text": [
      "P_t = 7.037\n",
      "P_n = 8.126\n"
     ]
    }
   ],
   "source": [
    "max_gearbox_width = 15\n",
    "clearances = 1.5\n",
    "P_t = (N_2 + N_3 + 2)/(max_gearbox_width - clearances)\n",
    "\n",
    "show(P_t)\n",
    "\n",
    "# Finding the normal pitch\n",
    "P_n = P_t/np.cos(psi)\n",
    "show(P_n)"
   ]
  },
  {
   "cell_type": "markdown",
   "metadata": {},
   "source": [
    "This gives us a minimum for $P$. __Table 13-2__ lists common values of $P_n$ (which is why $P_n$ was calculated before), we round up to the nearest value where we find..."
   ]
  },
  {
   "cell_type": "code",
   "execution_count": 112,
   "metadata": {},
   "outputs": [
    {
     "name": "stdout",
     "output_type": "stream",
     "text": [
      "P_t = 8.660\n",
      "d_2 = 1.270\n",
      "d_3 = 9.469\n"
     ]
    }
   ],
   "source": [
    "P_n = 10 #teeth/inch\n",
    "P_t = P_n * np.cos(psi)\n",
    "show(P_t)\n",
    "\n",
    "d_2 = N_2/P_t   # Lecture 27 slide 8\n",
    "d_3 = N_3/P_t\n",
    "show(d_2, d_3)"
   ]
  },
  {
   "cell_type": "code",
   "execution_count": 113,
   "metadata": {},
   "outputs": [
    {
     "name": "stdout",
     "output_type": "stream",
     "text": [
      "Y = 12.470\n"
     ]
    }
   ],
   "source": [
    "Y = d_2 + d_3 + clearances + (2/P_t)\n",
    "show(Y)"
   ]
  },
  {
   "cell_type": "markdown",
   "metadata": {},
   "source": [
    "\n",
    "Next, we need to find the required strength of materials for both the pinion and gear, for both wear and bending, ie, $S_{tG}$, $S_{CG}$, $S_{tP}$, and $S_{CP}$. These can be found using the AGMA equations.\n",
    "\n",
    "$$\n",
    "\\sigma = W^t K_o K_v K_s \\dfrac{P_d}{F} \\dfrac{K_m K_B}{J}\n",
    "$$\n",
    "\n",
    "$$\n",
    "S_F = \\dfrac{S_t Y_N / (K_T K_R)}{\\sigma} \\rightarrow S_t = \\sigma\\dfrac{S_F K_T K_R}{Y_N}\n",
    "$$\n",
    "\n",
    "$$\n",
    "\\sigma_C = C_p \\sqrt{W^t K_o K_v K_s \\frac{K_m}{d_p F} \\frac{C_f}{I}}\n",
    "$$\n",
    "\n",
    "$$\n",
    "S_H = \\dfrac{S_C Z_N C_H / (K_T K_R)}{\\sigma_C} \\rightarrow S_C = \\sigma_C\\dfrac{S_H K_T K_R}{Z_N C_H}\n",
    "$$"
   ]
  },
  {
   "cell_type": "markdown",
   "metadata": {},
   "source": [
    "To start finding these, we begin by finding general terms for the gear and pinion: $V$, $W^t$, and $F$. "
   ]
  },
  {
   "cell_type": "code",
   "execution_count": 114,
   "metadata": {},
   "outputs": [
    {
     "name": "stdout",
     "output_type": "stream",
     "text": [
      "V = 997.590\n",
      "W_t = 314.257\n"
     ]
    }
   ],
   "source": [
    "# Finding pitch-line velocity from Equation 13-34\n",
    "V = (pi * d_2 * input_speed)/12\n",
    "\n",
    "show(V)\n",
    "\n",
    "# Transmitted load via Equation 13-35\n",
    "W_t = 33000 * (H/V)\n",
    "\n",
    "show(W_t)"
   ]
  },
  {
   "cell_type": "code",
   "execution_count": 115,
   "metadata": {},
   "outputs": [
    {
     "name": "stdout",
     "output_type": "stream",
     "text": [
      "F = 1.257\n"
     ]
    }
   ],
   "source": [
    "# F is typically 3 to 5 times the circular pitch. Assuming F is 4 times the pitch (via textbook). \n",
    "\n",
    "F = 4 * (pi / P_n)\n",
    "\n",
    "show(F)"
   ]
  },
  {
   "cell_type": "code",
   "execution_count": 116,
   "metadata": {},
   "outputs": [],
   "source": [
    "# Assignment specifies that face widths are available in 0.25 inch increments, rounding to the closest face width we get:\n",
    "\n",
    "F = 1.25"
   ]
  },
  {
   "cell_type": "markdown",
   "metadata": {},
   "source": [
    "Now we just need to find the AGMA stuff. I'm going to do the factors that are the same between gear and pinion first."
   ]
  },
  {
   "cell_type": "code",
   "execution_count": 117,
   "metadata": {},
   "outputs": [],
   "source": [
    "# From assumptions and assignment description:\n",
    "\n",
    "K_o = K_s = C_f = 1"
   ]
  },
  {
   "cell_type": "code",
   "execution_count": 118,
   "metadata": {},
   "outputs": [
    {
     "name": "stdout",
     "output_type": "stream",
     "text": [
      "K_v = 1.335\n",
      "V_max = 4769.802\n"
     ]
    }
   ],
   "source": [
    "from numpy import sqrt\n",
    "# Calculating K_v\n",
    "Q = 7\n",
    "\n",
    "B = 0.25 * (12 - Q)**(2/3)\n",
    "A = 50 + 56*(1 - B)\n",
    "\n",
    "K_v = ((A + sqrt(V))/A)**B\n",
    "show(K_v)\n",
    "\n",
    "# Checking that V is within maximum pitch-line velocity\n",
    "V_max = (A + (Q - 3))**2\n",
    "show(V_max)"
   ]
  },
  {
   "cell_type": "markdown",
   "metadata": {},
   "source": [
    "We are below the maximum pitch-line velocity, so we don't need to change our $Q$."
   ]
  },
  {
   "cell_type": "code",
   "execution_count": 119,
   "metadata": {},
   "outputs": [
    {
     "name": "stdout",
     "output_type": "stream",
     "text": [
      "K_m = 1.223\n"
     ]
    }
   ],
   "source": [
    "# K_m calculation\n",
    "\n",
    "C_mc = 1    # uncrowned\n",
    "C_pf = (F/(10*d_2)) - 0.0375 + 0.0125*F #14-32\n",
    "C_pm = 1    # Evenly spaced between bearings\n",
    "\n",
    "A = 0.127\n",
    "B = 0.0158\n",
    "C = -0.930e-4\n",
    "C_ma = A + B*F + C*F**2     # Commerical enclosed\n",
    "\n",
    "C_e = 1     # Not adjusted or lapped\n",
    "\n",
    "K_m = 1 + C_mc*(C_pf*C_pm + C_ma*C_e)\n",
    "\n",
    "show(K_m)"
   ]
  },
  {
   "cell_type": "markdown",
   "metadata": {},
   "source": [
    "We can just assume $K_B = 1$ since we're not adjusting the rim thickness. Same with the temperature factor $K_T$, we're not accounting for higher temperatures."
   ]
  },
  {
   "cell_type": "code",
   "execution_count": 120,
   "metadata": {},
   "outputs": [],
   "source": [
    "K_B = K_T = 1"
   ]
  },
  {
   "cell_type": "code",
   "execution_count": 121,
   "metadata": {},
   "outputs": [],
   "source": [
    "# Reliability calculation for K_R at 90% reliability\n",
    "K_R = 0.85  # Table 14-10"
   ]
  },
  {
   "cell_type": "markdown",
   "metadata": {},
   "source": [
    "The elastic coefficient $C_p$ depends on the materials selected for the gear and pinion, so we'll just assume that we're going to select a steel material for both gears, which results in:"
   ]
  },
  {
   "cell_type": "code",
   "execution_count": 122,
   "metadata": {},
   "outputs": [],
   "source": [
    "C_p = 2300 # Table 14-8"
   ]
  },
  {
   "cell_type": "markdown",
   "metadata": {},
   "source": [
    "The hardness ratio coefficient $C_H$ can be set equal to 1 because we're assuming the same material for both gear and pinion"
   ]
  },
  {
   "cell_type": "code",
   "execution_count": 123,
   "metadata": {},
   "outputs": [],
   "source": [
    "C_H = 1"
   ]
  },
  {
   "cell_type": "markdown",
   "metadata": {},
   "source": [
    "That's all of the coefficients that are the same between both gears. Now the different ones.\n",
    "\n",
    "For the stress-cycle factors ($Y_N$ and $Z_N$) we first have to convert the desired life of the gears in hours to a desired life in revolutions, which is dependent on the speed of the gear:\n",
    "\n",
    "$$ L_{rev,i} = L_{hours} \\cdot 60\\frac{\\text{min}}{\\text{h}} \\cdot \\omega_i $$"
   ]
  },
  {
   "cell_type": "code",
   "execution_count": 124,
   "metadata": {},
   "outputs": [
    {
     "name": "stdout",
     "output_type": "stream",
     "text": [
      "L_2 = 1.800e+08\n",
      "L_3 = 2.415e+07\n"
     ]
    }
   ],
   "source": [
    "L_hours = 1000\n",
    "\n",
    "L_2 = L_hours * 60 * input_speed\n",
    "L_3 = L_hours * 60 * output_speed_actual\n",
    "\n",
    "show(L_2, L_3, format_spec=\".3e\")"
   ]
  },
  {
   "cell_type": "markdown",
   "metadata": {},
   "source": [
    "With these found we can use __Figure 14-14__ to find $Y_N$ and __14-15__ for $Z_N$"
   ]
  },
  {
   "cell_type": "code",
   "execution_count": 125,
   "metadata": {},
   "outputs": [
    {
     "name": "stdout",
     "output_type": "stream",
     "text": [
      "Y_N2 = 0.911\n",
      "Z_N2 = 0.851\n",
      "Y_N3 = 0.972\n",
      "Z_N3 = 0.952\n"
     ]
    }
   ],
   "source": [
    "Y_N2 = 1.6831 * L_2**(-0.0323)\n",
    "Z_N2 = 2.466 * L_2**(-0.056)\n",
    "\n",
    "Y_N3 = 1.6831 * L_3**(-0.0323)\n",
    "Z_N3 = 2.466 * L_3**(-0.056)\n",
    "\n",
    "show(Y_N2, Z_N2, Y_N3, Z_N3)"
   ]
  },
  {
   "cell_type": "markdown",
   "metadata": {},
   "source": [
    "Geometry $J$ factor. The \"Further Guidance for the Project\" file provides details on how to find $J$, so I'm going to follow those guidelines:"
   ]
  },
  {
   "cell_type": "code",
   "execution_count": 126,
   "metadata": {},
   "outputs": [
    {
     "name": "stdout",
     "output_type": "stream",
     "text": [
      "N_2 = 11.000\n",
      "N_3 = 82.000\n"
     ]
    }
   ],
   "source": [
    "show(N_2, N_3)"
   ]
  },
  {
   "cell_type": "code",
   "execution_count": 127,
   "metadata": {},
   "outputs": [
    {
     "name": "stdout",
     "output_type": "stream",
     "text": [
      "J_2 = 0.465\n",
      "J_3 = 0.506\n"
     ]
    }
   ],
   "source": [
    "# From figures 14-7 and 14-8:\n",
    "\n",
    "# Pinion has 11 teeth meshing with 82 teeth on gear, using 20 tooth line on 14-7 and 75-tooth line on 14-8\n",
    "J_prime_2 = 0.465\n",
    "J_2 = J_prime_2 * 1.00\n",
    "\n",
    "# Gear has 82 teeth meshing with 11 teeth on pinion, thus using 60 tooth line on 14-7 and 20 tooth line on 14-8\n",
    "J_prime_3 = 0.535\n",
    "J_3 = J_prime_3 * 0.945\n",
    "\n",
    "show(J_2, J_3)"
   ]
  },
  {
   "cell_type": "markdown",
   "metadata": {},
   "source": [
    "Surface strength geometry factor $I$. These use equations 14-21 through 14-26"
   ]
  },
  {
   "cell_type": "code",
   "execution_count": 128,
   "metadata": {},
   "outputs": [
    {
     "name": "stdout",
     "output_type": "stream",
     "text": [
      "I = 0.255\n"
     ]
    }
   ],
   "source": [
    "# Get pitch radii\n",
    "r_2 = d_2/2\n",
    "r_3 = d_3/2\n",
    "\n",
    "# Base circle pitch-radii (Eq 14-26)\n",
    "rb_2 = r_2*np.cos(phi_t)\n",
    "rb_3 = r_3*np.cos(phi_t)\n",
    "\n",
    "# Addendum\n",
    "a = 1/P_t\n",
    "\n",
    "# Equation 14-25\n",
    "Z = sqrt((r_2 + a)**2 - rb_2**2) + sqrt((r_3 + a)**2 - rb_3**2) - (r_2 + r_3)*np.sin(phi_t)\n",
    "\n",
    "# Speed ratio (Eq 14-22)\n",
    "m_G = N_3/N_2\n",
    "\n",
    "# Equation 14-24\n",
    "p_n = pi/P_n\n",
    "p_N = p_n * np.cos(phi_n)\n",
    "\n",
    "# Equation 14-21\n",
    "m_N = p_N/(0.95 * Z)\n",
    "\n",
    "# Equation 14-23 (External gears)\n",
    "I = ((np.cos(phi_t) * np.sin(phi_t))/(2 * m_N)) * ((m_G)/(m_G + 1))\n",
    "\n",
    "show(I)"
   ]
  },
  {
   "cell_type": "markdown",
   "metadata": {},
   "source": [
    "That should be all of them, we can now calculate the required strengths for the pinion and gear in wear and bending using safety factors of 1.2."
   ]
  },
  {
   "cell_type": "code",
   "execution_count": 129,
   "metadata": {},
   "outputs": [
    {
     "name": "stdout",
     "output_type": "stream",
     "text": [
      "St_2 = 9.889e+03\n",
      "SC_2 = 9.816e+04\n"
     ]
    }
   ],
   "source": [
    "S_F = S_H = 1.2\n",
    "\n",
    "# Pinion calculations\n",
    "\n",
    "sigma_2 = W_t * K_o * K_v * K_s * (P_n/F) * ((K_m * K_B)/J_2)\n",
    "St_2 = sigma_2 * ((S_F * K_T * K_R)/Y_N2)\n",
    "\n",
    "sigma_C2 = C_p * sqrt(W_t * K_o * K_v * K_s * (K_m/(d_2*F)) * (C_f/I))\n",
    "SC_2 = sigma_C2 * ((S_H*K_T*K_R)/(Z_N2 * C_H))\n",
    "\n",
    "show(St_2, SC_2, format_spec='.3e')"
   ]
  },
  {
   "cell_type": "code",
   "execution_count": 130,
   "metadata": {},
   "outputs": [
    {
     "name": "stdout",
     "output_type": "stream",
     "text": [
      "St_3 = 8.524e+03\n",
      "SC_3 = 3.213e+04\n"
     ]
    }
   ],
   "source": [
    "# Gear calculations\n",
    "\n",
    "sigma_3 = W_t * K_o * K_v * K_s * (P_n/F) * ((K_m * K_B)/J_3)\n",
    "St_3 = sigma_3 * ((S_F * K_T * K_R)/Y_N3)\n",
    "\n",
    "sigma_C3 = C_p * sqrt(W_t * K_o * K_v * K_s * (K_m/(d_3*F)) * (C_f/I))\n",
    "SC_3 = sigma_C3 * ((S_H*K_T*K_R)/(Z_N3 * C_H))\n",
    "\n",
    "show(St_3, SC_3, format_spec='.3e')"
   ]
  },
  {
   "cell_type": "markdown",
   "metadata": {},
   "source": [
    "The largest required strength is for the pinion, with $S_{C,req} = 98.9$ ksi and $S_{t,req} = 9.89$ ksi, so those strengths are what we'll look for in table __14-3__ and __14-6__. From these tables we choose Grade 1 Flame-hardened steel with $S_C = 170$ ksi and $S_t = 45$ ksi. This material works for both the gear and pinion.\n",
    "\n",
    "We now need to find the acheived factors of safety."
   ]
  },
  {
   "cell_type": "code",
   "execution_count": 135,
   "metadata": {},
   "outputs": [
    {
     "name": "stdout",
     "output_type": "stream",
     "text": [
      "n_2 = 5.460\n",
      "n_C2 = 2.078\n"
     ]
    }
   ],
   "source": [
    "S_t = 45e3\n",
    "S_C = 170e3\n",
    "\n",
    "# Using equation 14-17/18 with S_H = S_F = 1\n",
    "S_H = S_F = 1\n",
    "\n",
    "sigma_all2 = (S_t * Y_N2)/(S_F * K_T * K_R)\n",
    "sigma_Call2 = (S_C * Z_N2 * C_H)/(S_H * K_T * K_R)\n",
    "\n",
    "n_2 = sigma_all2/sigma_2\n",
    "n_C2 = sigma_Call2/sigma_C2\n",
    "\n",
    "show(n_2,  n_C2)"
   ]
  },
  {
   "cell_type": "code",
   "execution_count": 136,
   "metadata": {},
   "outputs": [
    {
     "name": "stdout",
     "output_type": "stream",
     "text": [
      "n_3 = 6.335\n",
      "n_C3 = 6.350\n"
     ]
    }
   ],
   "source": [
    "sigma_all3 = (S_t * Y_N3)/(S_F * K_T * K_R)\n",
    "sigma_Call3 = (S_C * Z_N3 * C_H)/(S_H * K_T * K_R)\n",
    "\n",
    "n_3 = sigma_all3/sigma_3\n",
    "n_C3 = sigma_Call3/sigma_C3\n",
    "\n",
    "show(n_3, n_C3)"
   ]
  },
  {
   "cell_type": "code",
   "execution_count": null,
   "metadata": {},
   "outputs": [],
   "source": []
  }
 ],
 "metadata": {
  "kernelspec": {
   "display_name": "base",
   "language": "python",
   "name": "python3"
  },
  "language_info": {
   "codemirror_mode": {
    "name": "ipython",
    "version": 3
   },
   "file_extension": ".py",
   "mimetype": "text/x-python",
   "name": "python",
   "nbconvert_exporter": "python",
   "pygments_lexer": "ipython3",
   "version": "3.11.7"
  }
 },
 "nbformat": 4,
 "nbformat_minor": 2
}
